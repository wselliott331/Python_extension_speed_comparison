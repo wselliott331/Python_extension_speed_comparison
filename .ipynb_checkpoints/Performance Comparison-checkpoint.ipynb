{
 "cells": [
  {
   "cell_type": "code",
   "execution_count": 1,
   "id": "1ffe6246",
   "metadata": {},
   "outputs": [],
   "source": [
    "from rustinacci import fibonacci as rustfib"
   ]
  },
  {
   "cell_type": "code",
   "execution_count": 2,
   "id": "29f673f9",
   "metadata": {},
   "outputs": [],
   "source": [
    "import julia"
   ]
  },
  {
   "cell_type": "code",
   "execution_count": 3,
   "id": "ef326b7a",
   "metadata": {},
   "outputs": [],
   "source": [
    "from julia import Main"
   ]
  },
  {
   "cell_type": "code",
   "execution_count": 4,
   "id": "05c4bc5d",
   "metadata": {},
   "outputs": [],
   "source": [
    "from pyonacci.pyonacci import fibonacci as pyfib"
   ]
  },
  {
   "cell_type": "code",
   "execution_count": 5,
   "id": "e8f2b8f0",
   "metadata": {},
   "outputs": [
    {
     "data": {
      "text/plain": [
       "<PyCall.jlwrap Main.Fibonacci>"
      ]
     },
     "execution_count": 5,
     "metadata": {},
     "output_type": "execute_result"
    }
   ],
   "source": [
    "Main.eval('include(\"./juliacci/fibonacci.jl\")')"
   ]
  },
  {
   "cell_type": "code",
   "execution_count": 6,
   "id": "378e8b84",
   "metadata": {},
   "outputs": [],
   "source": [
    "Main.eval(\"using .Fibonacci\")"
   ]
  },
  {
   "cell_type": "markdown",
   "id": "f3e9ddfb",
   "metadata": {},
   "source": [
    "# Rust"
   ]
  },
  {
   "cell_type": "code",
   "execution_count": 7,
   "id": "e3141e95",
   "metadata": {},
   "outputs": [
    {
     "name": "stdout",
     "output_type": "stream",
     "text": [
      "3.06 s ± 9.36 ms per loop (mean ± std. dev. of 7 runs, 5 loops each)\n"
     ]
    }
   ],
   "source": [
    "%timeit -n5 [rustfib(x) for x in range(1,43)]"
   ]
  },
  {
   "cell_type": "markdown",
   "id": "f2f6d1f8",
   "metadata": {},
   "source": [
    "# Julia"
   ]
  },
  {
   "cell_type": "code",
   "execution_count": 8,
   "id": "453a62d1",
   "metadata": {},
   "outputs": [
    {
     "name": "stdout",
     "output_type": "stream",
     "text": [
      "1.56 s ± 5.38 ms per loop (mean ± std. dev. of 7 runs, 5 loops each)\n"
     ]
    }
   ],
   "source": [
    "%timeit -n5 [Main.eval(f\"Fibonacci.fibonacci({x})\") for x in range(1,43)]"
   ]
  },
  {
   "cell_type": "code",
   "execution_count": 9,
   "id": "cc8a1ad9",
   "metadata": {},
   "outputs": [
    {
     "name": "stdout",
     "output_type": "stream",
     "text": [
      "1.57 s ± 16.9 ms per loop (mean ± std. dev. of 7 runs, 5 loops each)\n"
     ]
    }
   ],
   "source": [
    "%timeit -n5 Main.eval(\"[Fibonacci.fibonacci(x) for x in 1:42]\")"
   ]
  },
  {
   "cell_type": "markdown",
   "id": "0837e061",
   "metadata": {},
   "source": [
    "# Native Python"
   ]
  },
  {
   "cell_type": "code",
   "execution_count": 12,
   "id": "210d1d04",
   "metadata": {},
   "outputs": [
    {
     "name": "stdout",
     "output_type": "stream",
     "text": [
      "1min 31s ± 118 ms per loop (mean ± std. dev. of 3 runs, 2 loops each)\n"
     ]
    }
   ],
   "source": [
    "%timeit -r 3 -n 2 [pyfib(x) for x in range(1,43)]"
   ]
  },
  {
   "cell_type": "markdown",
   "id": "880d3719",
   "metadata": {},
   "source": [
    "# Cythonized"
   ]
  },
  {
   "cell_type": "markdown",
   "id": "d63f6278",
   "metadata": {},
   "source": [
    "Instead of a proper cython implementation, using Cython.Build.cythonize to see what I can get 'for free'."
   ]
  },
  {
   "cell_type": "code",
   "execution_count": 17,
   "id": "6189293f",
   "metadata": {},
   "outputs": [],
   "source": [
    "from cythonacci.base.pyonacci import fibonacci as base_cythonacci"
   ]
  },
  {
   "cell_type": "code",
   "execution_count": 18,
   "id": "6fc7934f",
   "metadata": {},
   "outputs": [
    {
     "name": "stdout",
     "output_type": "stream",
     "text": [
      "25.9 s ± 8.02 ms per loop (mean ± std. dev. of 7 runs, 5 loops each)\n"
     ]
    }
   ],
   "source": [
    "%timeit -n5 [base_cythonacci(x) for x in range(1,43)]"
   ]
  },
  {
   "cell_type": "markdown",
   "id": "96b7e9fb",
   "metadata": {},
   "source": [
    "# More Complete Cython"
   ]
  },
  {
   "cell_type": "markdown",
   "id": "1cb402d7",
   "metadata": {},
   "source": [
    "Though I suspect it won't make too much difference for a function this simple, manually specifying types for the cython compiler just for the sake of completeness."
   ]
  },
  {
   "cell_type": "code",
   "execution_count": 19,
   "id": "71688d63",
   "metadata": {},
   "outputs": [],
   "source": [
    "from cythonacci.full.pyonacci import fibonacci as full_cythonacci"
   ]
  },
  {
   "cell_type": "code",
   "execution_count": 20,
   "id": "ec0bf8ea",
   "metadata": {},
   "outputs": [
    {
     "name": "stdout",
     "output_type": "stream",
     "text": [
      "17 s ± 10 ms per loop (mean ± std. dev. of 7 runs, 5 loops each)\n"
     ]
    }
   ],
   "source": [
    "%timeit -n5 [full_cythonacci(x) for x in range(1,43)]"
   ]
  },
  {
   "cell_type": "markdown",
   "id": "103edcc7",
   "metadata": {},
   "source": [
    "Wow, that made a much bigger difference than I expected. Still slower than rust and Julia, but much closer."
   ]
  },
  {
   "cell_type": "code",
   "execution_count": null,
   "id": "451c21a2",
   "metadata": {},
   "outputs": [],
   "source": []
  }
 ],
 "metadata": {
  "kernelspec": {
   "display_name": "Python 3 (ipykernel)",
   "language": "python",
   "name": "python3"
  },
  "language_info": {
   "codemirror_mode": {
    "name": "ipython",
    "version": 3
   },
   "file_extension": ".py",
   "mimetype": "text/x-python",
   "name": "python",
   "nbconvert_exporter": "python",
   "pygments_lexer": "ipython3",
   "version": "3.10.4"
  }
 },
 "nbformat": 4,
 "nbformat_minor": 5
}
